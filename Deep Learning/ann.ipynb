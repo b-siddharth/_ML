{
  "nbformat": 4,
  "nbformat_minor": 0,
  "metadata": {
    "colab": {
      "provenance": [],
      "authorship_tag": "ABX9TyO6eDkmCvkpTcN1FWmeypi2",
      "include_colab_link": true
    },
    "kernelspec": {
      "name": "python3",
      "display_name": "Python 3"
    },
    "language_info": {
      "name": "python"
    }
  },
  "cells": [
    {
      "cell_type": "markdown",
      "metadata": {
        "id": "view-in-github",
        "colab_type": "text"
      },
      "source": [
        "<a href=\"https://colab.research.google.com/github/b-siddharth/_ML/blob/main/ann.ipynb\" target=\"_parent\"><img src=\"https://colab.research.google.com/assets/colab-badge.svg\" alt=\"Open In Colab\"/></a>"
      ]
    },
    {
      "cell_type": "markdown",
      "source": [
        "Importing the Libraries"
      ],
      "metadata": {
        "id": "ervT7ajPK4mC"
      }
    },
    {
      "cell_type": "code",
      "execution_count": 1,
      "metadata": {
        "id": "J9hIOYwTK2_H"
      },
      "outputs": [],
      "source": [
        "import pandas as pd\n",
        "import numpy as np\n",
        "import tensorflow as tf"
      ]
    },
    {
      "cell_type": "code",
      "source": [
        "tf.__version__"
      ],
      "metadata": {
        "colab": {
          "base_uri": "https://localhost:8080/",
          "height": 35
        },
        "id": "aP9LgrQNLMRB",
        "outputId": "0d3630d4-0941-4444-a978-8a085ceb969a"
      },
      "execution_count": 2,
      "outputs": [
        {
          "output_type": "execute_result",
          "data": {
            "text/plain": [
              "'2.9.2'"
            ],
            "application/vnd.google.colaboratory.intrinsic+json": {
              "type": "string"
            }
          },
          "metadata": {},
          "execution_count": 2
        }
      ]
    },
    {
      "cell_type": "markdown",
      "source": [
        "**Data Preprocessing**"
      ],
      "metadata": {
        "id": "lIgqs_khLPxw"
      }
    },
    {
      "cell_type": "markdown",
      "source": [
        "Importing the dataset"
      ],
      "metadata": {
        "id": "g7uQLoSHLfpQ"
      }
    },
    {
      "cell_type": "code",
      "source": [
        "data = pd.read_csv('Churn_Modelling.csv')\n",
        "x = data.iloc[:, 3:-1].values\n",
        "y = data.iloc[:,-1].values"
      ],
      "metadata": {
        "id": "IWw7wOdkLfM3"
      },
      "execution_count": 4,
      "outputs": []
    },
    {
      "cell_type": "code",
      "source": [
        "print(x)"
      ],
      "metadata": {
        "colab": {
          "base_uri": "https://localhost:8080/"
        },
        "id": "xHj3YfSALwcE",
        "outputId": "a58e193a-cd85-491e-f97e-86fc24332e81"
      },
      "execution_count": 5,
      "outputs": [
        {
          "output_type": "stream",
          "name": "stdout",
          "text": [
            "[[619 'France' 'Female' ... 1 1 101348.88]\n",
            " [608 'Spain' 'Female' ... 0 1 112542.58]\n",
            " [502 'France' 'Female' ... 1 0 113931.57]\n",
            " ...\n",
            " [709 'France' 'Female' ... 0 1 42085.58]\n",
            " [772 'Germany' 'Male' ... 1 0 92888.52]\n",
            " [792 'France' 'Female' ... 1 0 38190.78]]\n"
          ]
        }
      ]
    },
    {
      "cell_type": "markdown",
      "source": [
        "Encoding the data"
      ],
      "metadata": {
        "id": "WhsI8uXSLziK"
      }
    },
    {
      "cell_type": "code",
      "source": [
        "from sklearn.preprocessing import LabelEncoder\n",
        "encode = LabelEncoder()\n",
        "x[:, 2] = encode.fit_transform(x[:, 2]) #gender column"
      ],
      "metadata": {
        "id": "AO344GpILyK0"
      },
      "execution_count": 9,
      "outputs": []
    },
    {
      "cell_type": "code",
      "source": [
        "print(x)"
      ],
      "metadata": {
        "colab": {
          "base_uri": "https://localhost:8080/"
        },
        "id": "CrA70BrNMIc3",
        "outputId": "c69f70e5-6798-4abc-d0e3-18b6b90cc602"
      },
      "execution_count": 10,
      "outputs": [
        {
          "output_type": "stream",
          "name": "stdout",
          "text": [
            "[[619 'France' 0 ... 1 1 101348.88]\n",
            " [608 'Spain' 0 ... 0 1 112542.58]\n",
            " [502 'France' 0 ... 1 0 113931.57]\n",
            " ...\n",
            " [709 'France' 0 ... 0 1 42085.58]\n",
            " [772 'Germany' 1 ... 1 0 92888.52]\n",
            " [792 'France' 0 ... 1 0 38190.78]]\n"
          ]
        }
      ]
    },
    {
      "cell_type": "code",
      "source": [
        "from sklearn.compose import ColumnTransformer\n",
        "from sklearn.preprocessing import OneHotEncoder\n",
        "ct = ColumnTransformer(transformers = [('encoder', OneHotEncoder(), [1])], remainder='passthrough')\n",
        "x = np.array(ct.fit_transform(x))"
      ],
      "metadata": {
        "id": "PdhhFhHrMX8I"
      },
      "execution_count": 11,
      "outputs": []
    },
    {
      "cell_type": "code",
      "source": [
        "print(x)"
      ],
      "metadata": {
        "colab": {
          "base_uri": "https://localhost:8080/"
        },
        "id": "5wvHZAMCMxIQ",
        "outputId": "c72ab7cc-7f16-46a5-c3ad-f9a4fb828f08"
      },
      "execution_count": 12,
      "outputs": [
        {
          "output_type": "stream",
          "name": "stdout",
          "text": [
            "[[1.0 0.0 0.0 ... 1 1 101348.88]\n",
            " [0.0 0.0 1.0 ... 0 1 112542.58]\n",
            " [1.0 0.0 0.0 ... 1 0 113931.57]\n",
            " ...\n",
            " [1.0 0.0 0.0 ... 0 1 42085.58]\n",
            " [0.0 1.0 0.0 ... 1 0 92888.52]\n",
            " [1.0 0.0 0.0 ... 1 0 38190.78]]\n"
          ]
        }
      ]
    },
    {
      "cell_type": "markdown",
      "source": [
        "Spliting the dataset into training and testing"
      ],
      "metadata": {
        "id": "UFM42w27NYku"
      }
    },
    {
      "cell_type": "code",
      "source": [
        "from sklearn.model_selection import train_test_split\n",
        "x_train, x_test, y_train, y_test = train_test_split(x,y,test_size=0.25, random_state=0)"
      ],
      "metadata": {
        "id": "d-_q4bD4NbAJ"
      },
      "execution_count": 13,
      "outputs": []
    },
    {
      "cell_type": "markdown",
      "source": [
        "Feature Scaling"
      ],
      "metadata": {
        "id": "vJboiafkNquZ"
      }
    },
    {
      "cell_type": "code",
      "source": [
        "from sklearn.preprocessing import StandardScaler\n",
        "sc = StandardScaler()\n",
        "x_train = sc.fit_transform(x_train)\n",
        "x_test = sc.transform(x_test)"
      ],
      "metadata": {
        "id": "kTWUE81hNtYH"
      },
      "execution_count": 14,
      "outputs": []
    },
    {
      "cell_type": "markdown",
      "source": [
        "**Building the Neural Network**"
      ],
      "metadata": {
        "id": "U7MF0BMdN62n"
      }
    },
    {
      "cell_type": "markdown",
      "source": [
        "Initialization of the ANN"
      ],
      "metadata": {
        "id": "9Vlpmt0TOAv0"
      }
    },
    {
      "cell_type": "code",
      "source": [
        "ann = tf.keras.models.Sequential()"
      ],
      "metadata": {
        "id": "i32gIZGCN-Pl"
      },
      "execution_count": 15,
      "outputs": []
    },
    {
      "cell_type": "markdown",
      "source": [
        "Adding the input and hidden layers"
      ],
      "metadata": {
        "id": "bBrBTOu9OC8m"
      }
    },
    {
      "cell_type": "code",
      "source": [
        "ann.add(tf.keras.layers.Dense(units='6', activation='relu'))"
      ],
      "metadata": {
        "id": "EMET-EKjRsYe"
      },
      "execution_count": 16,
      "outputs": []
    },
    {
      "cell_type": "markdown",
      "source": [
        "Adding another layer "
      ],
      "metadata": {
        "id": "xL8Ya4fUXL6w"
      }
    },
    {
      "cell_type": "code",
      "source": [
        "ann.add(tf.keras.layers.Dense(units='6', activation='relu'))"
      ],
      "metadata": {
        "id": "XaZdyYE6XN0H"
      },
      "execution_count": 17,
      "outputs": []
    },
    {
      "cell_type": "markdown",
      "source": [
        "Adding an output layer"
      ],
      "metadata": {
        "id": "oI1Hn8g6XPug"
      }
    },
    {
      "cell_type": "code",
      "source": [
        "ann.add(tf.keras.layers.Dense(units='1', activation='sigmoid'))"
      ],
      "metadata": {
        "id": "PCobKNZgXRg1"
      },
      "execution_count": 18,
      "outputs": []
    },
    {
      "cell_type": "markdown",
      "source": [
        "**Training the model**"
      ],
      "metadata": {
        "id": "GsxKwgibXfxs"
      }
    },
    {
      "cell_type": "markdown",
      "source": [
        "Compling the ANN"
      ],
      "metadata": {
        "id": "JbeqLco_oI_U"
      }
    },
    {
      "cell_type": "code",
      "source": [
        "ann.compile(optimizer='adam', loss='binary_crossentropy', metrics= ['accuracy'])"
      ],
      "metadata": {
        "id": "n9c2affzXiIY"
      },
      "execution_count": 19,
      "outputs": []
    },
    {
      "cell_type": "markdown",
      "source": [
        "Training using the training set"
      ],
      "metadata": {
        "id": "0w_Ab73poGVT"
      }
    },
    {
      "cell_type": "code",
      "source": [
        "ann.fit(x_train, y_train, batch_size=32, epochs=100)"
      ],
      "metadata": {
        "colab": {
          "base_uri": "https://localhost:8080/"
        },
        "id": "5yuP3HLgo1I-",
        "outputId": "685086b3-7806-4962-aea5-22a13f901553"
      },
      "execution_count": 20,
      "outputs": [
        {
          "output_type": "stream",
          "name": "stdout",
          "text": [
            "Epoch 1/100\n",
            "235/235 [==============================] - 1s 2ms/step - loss: 0.6680 - accuracy: 0.6563\n",
            "Epoch 2/100\n",
            "235/235 [==============================] - 0s 2ms/step - loss: 0.4976 - accuracy: 0.7956\n",
            "Epoch 3/100\n",
            "235/235 [==============================] - 0s 2ms/step - loss: 0.4625 - accuracy: 0.7967\n",
            "Epoch 4/100\n",
            "235/235 [==============================] - 0s 2ms/step - loss: 0.4436 - accuracy: 0.7985\n",
            "Epoch 5/100\n",
            "235/235 [==============================] - 0s 2ms/step - loss: 0.4329 - accuracy: 0.8024\n",
            "Epoch 6/100\n",
            "235/235 [==============================] - 0s 2ms/step - loss: 0.4271 - accuracy: 0.8037\n",
            "Epoch 7/100\n",
            "235/235 [==============================] - 0s 2ms/step - loss: 0.4225 - accuracy: 0.8055\n",
            "Epoch 8/100\n",
            "235/235 [==============================] - 0s 2ms/step - loss: 0.4189 - accuracy: 0.8063\n",
            "Epoch 9/100\n",
            "235/235 [==============================] - 0s 1ms/step - loss: 0.4154 - accuracy: 0.8073\n",
            "Epoch 10/100\n",
            "235/235 [==============================] - 0s 2ms/step - loss: 0.4111 - accuracy: 0.8061\n",
            "Epoch 11/100\n",
            "235/235 [==============================] - 0s 2ms/step - loss: 0.4039 - accuracy: 0.8092\n",
            "Epoch 12/100\n",
            "235/235 [==============================] - 0s 2ms/step - loss: 0.3937 - accuracy: 0.8156\n",
            "Epoch 13/100\n",
            "235/235 [==============================] - 0s 2ms/step - loss: 0.3827 - accuracy: 0.8248\n",
            "Epoch 14/100\n",
            "235/235 [==============================] - 0s 1ms/step - loss: 0.3733 - accuracy: 0.8347\n",
            "Epoch 15/100\n",
            "235/235 [==============================] - 0s 2ms/step - loss: 0.3660 - accuracy: 0.8415\n",
            "Epoch 16/100\n",
            "235/235 [==============================] - 0s 2ms/step - loss: 0.3608 - accuracy: 0.8455\n",
            "Epoch 17/100\n",
            "235/235 [==============================] - 0s 1ms/step - loss: 0.3566 - accuracy: 0.8508\n",
            "Epoch 18/100\n",
            "235/235 [==============================] - 0s 2ms/step - loss: 0.3539 - accuracy: 0.8520\n",
            "Epoch 19/100\n",
            "235/235 [==============================] - 0s 2ms/step - loss: 0.3513 - accuracy: 0.8557\n",
            "Epoch 20/100\n",
            "235/235 [==============================] - 0s 2ms/step - loss: 0.3495 - accuracy: 0.8572\n",
            "Epoch 21/100\n",
            "235/235 [==============================] - 0s 2ms/step - loss: 0.3473 - accuracy: 0.8601\n",
            "Epoch 22/100\n",
            "235/235 [==============================] - 0s 2ms/step - loss: 0.3468 - accuracy: 0.8597\n",
            "Epoch 23/100\n",
            "235/235 [==============================] - 0s 2ms/step - loss: 0.3461 - accuracy: 0.8607\n",
            "Epoch 24/100\n",
            "235/235 [==============================] - 0s 2ms/step - loss: 0.3449 - accuracy: 0.8601\n",
            "Epoch 25/100\n",
            "235/235 [==============================] - 0s 2ms/step - loss: 0.3441 - accuracy: 0.8613\n",
            "Epoch 26/100\n",
            "235/235 [==============================] - 0s 2ms/step - loss: 0.3434 - accuracy: 0.8603\n",
            "Epoch 27/100\n",
            "235/235 [==============================] - 0s 2ms/step - loss: 0.3433 - accuracy: 0.8613\n",
            "Epoch 28/100\n",
            "235/235 [==============================] - 0s 1ms/step - loss: 0.3427 - accuracy: 0.8600\n",
            "Epoch 29/100\n",
            "235/235 [==============================] - 0s 1ms/step - loss: 0.3423 - accuracy: 0.8608\n",
            "Epoch 30/100\n",
            "235/235 [==============================] - 0s 2ms/step - loss: 0.3421 - accuracy: 0.8612\n",
            "Epoch 31/100\n",
            "235/235 [==============================] - 0s 2ms/step - loss: 0.3413 - accuracy: 0.8604\n",
            "Epoch 32/100\n",
            "235/235 [==============================] - 0s 2ms/step - loss: 0.3409 - accuracy: 0.8599\n",
            "Epoch 33/100\n",
            "235/235 [==============================] - 0s 1ms/step - loss: 0.3410 - accuracy: 0.8611\n",
            "Epoch 34/100\n",
            "235/235 [==============================] - 0s 2ms/step - loss: 0.3407 - accuracy: 0.8611\n",
            "Epoch 35/100\n",
            "235/235 [==============================] - 0s 2ms/step - loss: 0.3405 - accuracy: 0.8612\n",
            "Epoch 36/100\n",
            "235/235 [==============================] - 0s 2ms/step - loss: 0.3406 - accuracy: 0.8624\n",
            "Epoch 37/100\n",
            "235/235 [==============================] - 0s 2ms/step - loss: 0.3395 - accuracy: 0.8619\n",
            "Epoch 38/100\n",
            "235/235 [==============================] - 0s 2ms/step - loss: 0.3396 - accuracy: 0.8611\n",
            "Epoch 39/100\n",
            "235/235 [==============================] - 0s 2ms/step - loss: 0.3392 - accuracy: 0.8624\n",
            "Epoch 40/100\n",
            "235/235 [==============================] - 0s 2ms/step - loss: 0.3391 - accuracy: 0.8625\n",
            "Epoch 41/100\n",
            "235/235 [==============================] - 0s 2ms/step - loss: 0.3386 - accuracy: 0.8624\n",
            "Epoch 42/100\n",
            "235/235 [==============================] - 0s 2ms/step - loss: 0.3388 - accuracy: 0.8625\n",
            "Epoch 43/100\n",
            "235/235 [==============================] - 0s 2ms/step - loss: 0.3386 - accuracy: 0.8625\n",
            "Epoch 44/100\n",
            "235/235 [==============================] - 0s 2ms/step - loss: 0.3387 - accuracy: 0.8619\n",
            "Epoch 45/100\n",
            "235/235 [==============================] - 0s 2ms/step - loss: 0.3380 - accuracy: 0.8625\n",
            "Epoch 46/100\n",
            "235/235 [==============================] - 0s 2ms/step - loss: 0.3379 - accuracy: 0.8615\n",
            "Epoch 47/100\n",
            "235/235 [==============================] - 0s 1ms/step - loss: 0.3376 - accuracy: 0.8623\n",
            "Epoch 48/100\n",
            "235/235 [==============================] - 0s 2ms/step - loss: 0.3373 - accuracy: 0.8625\n",
            "Epoch 49/100\n",
            "235/235 [==============================] - 0s 2ms/step - loss: 0.3375 - accuracy: 0.8629\n",
            "Epoch 50/100\n",
            "235/235 [==============================] - 0s 2ms/step - loss: 0.3371 - accuracy: 0.8621\n",
            "Epoch 51/100\n",
            "235/235 [==============================] - 0s 1ms/step - loss: 0.3372 - accuracy: 0.8620\n",
            "Epoch 52/100\n",
            "235/235 [==============================] - 0s 2ms/step - loss: 0.3367 - accuracy: 0.8632\n",
            "Epoch 53/100\n",
            "235/235 [==============================] - 0s 2ms/step - loss: 0.3370 - accuracy: 0.8629\n",
            "Epoch 54/100\n",
            "235/235 [==============================] - 0s 2ms/step - loss: 0.3364 - accuracy: 0.8639\n",
            "Epoch 55/100\n",
            "235/235 [==============================] - 0s 2ms/step - loss: 0.3365 - accuracy: 0.8636\n",
            "Epoch 56/100\n",
            "235/235 [==============================] - 0s 2ms/step - loss: 0.3365 - accuracy: 0.8625\n",
            "Epoch 57/100\n",
            "235/235 [==============================] - 0s 2ms/step - loss: 0.3362 - accuracy: 0.8645\n",
            "Epoch 58/100\n",
            "235/235 [==============================] - 0s 2ms/step - loss: 0.3362 - accuracy: 0.8641\n",
            "Epoch 59/100\n",
            "235/235 [==============================] - 0s 2ms/step - loss: 0.3360 - accuracy: 0.8636\n",
            "Epoch 60/100\n",
            "235/235 [==============================] - 0s 2ms/step - loss: 0.3357 - accuracy: 0.8636\n",
            "Epoch 61/100\n",
            "235/235 [==============================] - 0s 2ms/step - loss: 0.3363 - accuracy: 0.8643\n",
            "Epoch 62/100\n",
            "235/235 [==============================] - 0s 2ms/step - loss: 0.3358 - accuracy: 0.8643\n",
            "Epoch 63/100\n",
            "235/235 [==============================] - 0s 2ms/step - loss: 0.3359 - accuracy: 0.8632\n",
            "Epoch 64/100\n",
            "235/235 [==============================] - 0s 2ms/step - loss: 0.3356 - accuracy: 0.8641\n",
            "Epoch 65/100\n",
            "235/235 [==============================] - 0s 2ms/step - loss: 0.3356 - accuracy: 0.8635\n",
            "Epoch 66/100\n",
            "235/235 [==============================] - 0s 1ms/step - loss: 0.3353 - accuracy: 0.8627\n",
            "Epoch 67/100\n",
            "235/235 [==============================] - 0s 2ms/step - loss: 0.3354 - accuracy: 0.8649\n",
            "Epoch 68/100\n",
            "235/235 [==============================] - 0s 2ms/step - loss: 0.3350 - accuracy: 0.8648\n",
            "Epoch 69/100\n",
            "235/235 [==============================] - 0s 2ms/step - loss: 0.3351 - accuracy: 0.8637\n",
            "Epoch 70/100\n",
            "235/235 [==============================] - 0s 2ms/step - loss: 0.3352 - accuracy: 0.8639\n",
            "Epoch 71/100\n",
            "235/235 [==============================] - 0s 2ms/step - loss: 0.3354 - accuracy: 0.8643\n",
            "Epoch 72/100\n",
            "235/235 [==============================] - 0s 2ms/step - loss: 0.3350 - accuracy: 0.8652\n",
            "Epoch 73/100\n",
            "235/235 [==============================] - 0s 2ms/step - loss: 0.3345 - accuracy: 0.8629\n",
            "Epoch 74/100\n",
            "235/235 [==============================] - 0s 2ms/step - loss: 0.3346 - accuracy: 0.8645\n",
            "Epoch 75/100\n",
            "235/235 [==============================] - 0s 2ms/step - loss: 0.3348 - accuracy: 0.8652\n",
            "Epoch 76/100\n",
            "235/235 [==============================] - 0s 2ms/step - loss: 0.3344 - accuracy: 0.8640\n",
            "Epoch 77/100\n",
            "235/235 [==============================] - 0s 2ms/step - loss: 0.3342 - accuracy: 0.8648\n",
            "Epoch 78/100\n",
            "235/235 [==============================] - 0s 1ms/step - loss: 0.3345 - accuracy: 0.8639\n",
            "Epoch 79/100\n",
            "235/235 [==============================] - 0s 2ms/step - loss: 0.3344 - accuracy: 0.8632\n",
            "Epoch 80/100\n",
            "235/235 [==============================] - 0s 2ms/step - loss: 0.3340 - accuracy: 0.8641\n",
            "Epoch 81/100\n",
            "235/235 [==============================] - 0s 2ms/step - loss: 0.3342 - accuracy: 0.8644\n",
            "Epoch 82/100\n",
            "235/235 [==============================] - 0s 2ms/step - loss: 0.3338 - accuracy: 0.8649\n",
            "Epoch 83/100\n",
            "235/235 [==============================] - 0s 2ms/step - loss: 0.3337 - accuracy: 0.8657\n",
            "Epoch 84/100\n",
            "235/235 [==============================] - 0s 2ms/step - loss: 0.3334 - accuracy: 0.8645\n",
            "Epoch 85/100\n",
            "235/235 [==============================] - 0s 2ms/step - loss: 0.3341 - accuracy: 0.8640\n",
            "Epoch 86/100\n",
            "235/235 [==============================] - 0s 2ms/step - loss: 0.3333 - accuracy: 0.8647\n",
            "Epoch 87/100\n",
            "235/235 [==============================] - 0s 2ms/step - loss: 0.3344 - accuracy: 0.8623\n",
            "Epoch 88/100\n",
            "235/235 [==============================] - 0s 2ms/step - loss: 0.3332 - accuracy: 0.8639\n",
            "Epoch 89/100\n",
            "235/235 [==============================] - 0s 2ms/step - loss: 0.3333 - accuracy: 0.8653\n",
            "Epoch 90/100\n",
            "235/235 [==============================] - 0s 2ms/step - loss: 0.3336 - accuracy: 0.8637\n",
            "Epoch 91/100\n",
            "235/235 [==============================] - 0s 2ms/step - loss: 0.3332 - accuracy: 0.8640\n",
            "Epoch 92/100\n",
            "235/235 [==============================] - 0s 2ms/step - loss: 0.3332 - accuracy: 0.8639\n",
            "Epoch 93/100\n",
            "235/235 [==============================] - 0s 2ms/step - loss: 0.3333 - accuracy: 0.8645\n",
            "Epoch 94/100\n",
            "235/235 [==============================] - 0s 2ms/step - loss: 0.3329 - accuracy: 0.8639\n",
            "Epoch 95/100\n",
            "235/235 [==============================] - 0s 2ms/step - loss: 0.3326 - accuracy: 0.8648\n",
            "Epoch 96/100\n",
            "235/235 [==============================] - 0s 2ms/step - loss: 0.3327 - accuracy: 0.8643\n",
            "Epoch 97/100\n",
            "235/235 [==============================] - 0s 2ms/step - loss: 0.3326 - accuracy: 0.8632\n",
            "Epoch 98/100\n",
            "235/235 [==============================] - 0s 2ms/step - loss: 0.3325 - accuracy: 0.8631\n",
            "Epoch 99/100\n",
            "235/235 [==============================] - 0s 2ms/step - loss: 0.3327 - accuracy: 0.8636\n",
            "Epoch 100/100\n",
            "235/235 [==============================] - 0s 2ms/step - loss: 0.3328 - accuracy: 0.8641\n"
          ]
        },
        {
          "output_type": "execute_result",
          "data": {
            "text/plain": [
              "<keras.callbacks.History at 0x7f6d02ce05e0>"
            ]
          },
          "metadata": {},
          "execution_count": 20
        }
      ]
    },
    {
      "cell_type": "markdown",
      "source": [
        "**Predicting single observations**"
      ],
      "metadata": {
        "id": "giJqmk83pVLT"
      }
    },
    {
      "cell_type": "markdown",
      "source": [
        "Geography: France\n",
        "\n",
        "Credit Score: 600\n",
        "\n",
        "Gender: Male\n",
        "\n",
        "Age: 40 years old\n",
        "\n",
        "Tenure: 3 years\n",
        "\n",
        "Balance: $ 60000\n",
        "\n",
        "Number of Products: 2\n",
        "\n",
        "Does this customer have a credit card? Yes\n",
        "\n",
        "Is this customer an Active Member: Yes\n",
        "\n",
        "Estimated Salary: $ 50000"
      ],
      "metadata": {
        "id": "c-OvvunApcr3"
      }
    },
    {
      "cell_type": "code",
      "source": [
        "print(ann.predict(sc.transform([[1, 0, 0, 600, 1, 40, 3, 60000, 2, 1, 1, 50000]])) > 0.5)\n",
        "#0.5 since we are using a sigmoid activation and the predicted probablity is being returned"
      ],
      "metadata": {
        "colab": {
          "base_uri": "https://localhost:8080/"
        },
        "id": "WocPM71HpgfG",
        "outputId": "b6bd42ab-f335-4b5c-b3ff-95b7652a38dd"
      },
      "execution_count": 22,
      "outputs": [
        {
          "output_type": "stream",
          "name": "stdout",
          "text": [
            "1/1 [==============================] - 0s 75ms/step\n",
            "[[False]]\n"
          ]
        }
      ]
    },
    {
      "cell_type": "markdown",
      "source": [
        "So for the given conditions the customer would stay in the bank"
      ],
      "metadata": {
        "id": "cgSi0qx-qc4X"
      }
    },
    {
      "cell_type": "markdown",
      "source": [
        "Using test set results"
      ],
      "metadata": {
        "id": "PAU6E6HOqjpL"
      }
    },
    {
      "cell_type": "code",
      "source": [
        "y_pred = ann.predict(x_test)\n",
        "y_pred = (y_pred > 0.5)\n",
        "print(np.concatenate((y_pred.reshape(len(y_pred),1), y_test.reshape(len(y_test),1)),1))"
      ],
      "metadata": {
        "colab": {
          "base_uri": "https://localhost:8080/"
        },
        "id": "4OoAclLtqlqx",
        "outputId": "a41655ad-051b-4fe9-92c3-3d5ef6fa3575"
      },
      "execution_count": 23,
      "outputs": [
        {
          "output_type": "stream",
          "name": "stdout",
          "text": [
            "79/79 [==============================] - 0s 1ms/step\n",
            "[[0 0]\n",
            " [0 1]\n",
            " [0 0]\n",
            " ...\n",
            " [0 0]\n",
            " [0 0]\n",
            " [0 0]]\n"
          ]
        }
      ]
    },
    {
      "cell_type": "markdown",
      "source": [
        "Performance Measure - using Confusion Matrix"
      ],
      "metadata": {
        "id": "Og4KfP4uq_ml"
      }
    },
    {
      "cell_type": "code",
      "source": [
        "from sklearn.metrics import confusion_matrix, accuracy_score\n",
        "cm = confusion_matrix(y_test, y_pred)\n",
        "print(cm)\n",
        "print()\n",
        "accuracy_score(y_test, y_pred)"
      ],
      "metadata": {
        "colab": {
          "base_uri": "https://localhost:8080/"
        },
        "id": "omZD6uxSrDaJ",
        "outputId": "d9c2c5af-7119-4d5b-9700-66a192dfa558"
      },
      "execution_count": 24,
      "outputs": [
        {
          "output_type": "stream",
          "name": "stdout",
          "text": [
            "[[1879  112]\n",
            " [ 246  263]]\n",
            "\n"
          ]
        },
        {
          "output_type": "execute_result",
          "data": {
            "text/plain": [
              "0.8568"
            ]
          },
          "metadata": {},
          "execution_count": 24
        }
      ]
    }
  ]
}